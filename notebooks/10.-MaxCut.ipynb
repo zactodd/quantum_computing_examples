{
 "cells": [
  {
   "cell_type": "code",
   "execution_count": null,
   "metadata": {},
   "outputs": [],
   "source": [
    "import dimod"
   ]
  },
  {
   "cell_type": "markdown",
   "metadata": {},
   "source": [
    "State the problem that we want to solve is very easy\n",
    "<br>We will start with a simple case"
   ]
  },
  {
   "cell_type": "code",
   "execution_count": null,
   "metadata": {},
   "outputs": [],
   "source": [
    "J = {(0, 1): 1}\n",
    "\n",
    "h = {}\n",
    "model = dimod.BinaryQuadraticModel(h, J, 0.0, dimod.SPIN)\n",
    "\n",
    "print(\"The model that we are going to solve is\")\n",
    "model"
   ]
  },
  {
   "cell_type": "markdown",
   "metadata": {},
   "source": [
    "We can solve it exactly"
   ]
  },
  {
   "cell_type": "code",
   "execution_count": null,
   "metadata": {},
   "outputs": [],
   "source": [
    "from dimod.reference.samplers import ExactSolver\n",
    "sampler = ExactSolver()\n",
    "solution = sampler.sample(model)\n",
    "print(\"The exact solution is\")\n",
    "solution"
   ]
  },
  {
   "cell_type": "markdown",
   "metadata": {},
   "source": [
    "Or with **simulated annealing** (a heuristic method used in classical computers)"
   ]
  },
  {
   "cell_type": "code",
   "execution_count": null,
   "metadata": {},
   "outputs": [],
   "source": [
    "# Or with *simulated annealing* (a heuristic method used in classical computers)\n",
    "sampler = dimod.SimulatedAnnealingSampler()\n",
    "response = sampler.sample(model, num_reads=10)\n",
    "print(\"The solution with simulated annealing is\")\n",
    "response"
   ]
  },
  {
   "cell_type": "markdown",
   "metadata": {},
   "source": [
    "To use D-Wave's quantum computer we first need to set the config and API token."
   ]
  },
  {
   "cell_type": "code",
   "execution_count": null,
   "metadata": {},
   "outputs": [],
   "source": [
    "API_TOKEN = ''\n",
    "config = {'token': API_TOKEN}"
   ]
  },
  {
   "cell_type": "code",
   "execution_count": null,
   "metadata": {},
   "outputs": [],
   "source": [
    "from dwave.system.samplers import DWaveSampler\n",
    "from dwave.system.composites import EmbeddingComposite\n",
    "sampler = EmbeddingComposite(DWaveSampler(**config))\n",
    "sampler_name = sampler.properties['child_properties']['chip_id']\n",
    "response = sampler.sample(model, num_reads=5000)\n",
    "print(\"The solution obtained by D-Wave's quantum annealer\", sampler_name, \"is\")\n",
    "response"
   ]
  },
  {
   "cell_type": "markdown",
   "metadata": {},
   "source": [
    "Let us now see a more complicated case "
   ]
  },
  {
   "cell_type": "code",
   "execution_count": null,
   "metadata": {},
   "outputs": [],
   "source": [
    "J = {(0, 1): 1, (0, 2): 1,(1, 2): 1, (1, 3): 1, (2, 4): 1, (3, 4):1}\n",
    "h = {}\n",
    "model = dimod.BinaryQuadraticModel(h, J, 0.0, dimod.SPIN)\n",
    "print(\"The model that we are going to solve is\")\n",
    "model"
   ]
  },
  {
   "cell_type": "markdown",
   "metadata": {},
   "source": [
    "First, we solve it exactly"
   ]
  },
  {
   "cell_type": "code",
   "execution_count": null,
   "metadata": {},
   "outputs": [],
   "source": [
    "sampler = ExactSolver()\n",
    "solution = sampler.sample(model)\n",
    "print(\"The exact solution is\")\n",
    "solution"
   ]
  },
  {
   "cell_type": "markdown",
   "metadata": {},
   "source": [
    "Now, with **simulated annealing**"
   ]
  },
  {
   "cell_type": "code",
   "execution_count": null,
   "metadata": {},
   "outputs": [],
   "source": [
    "sampler = dimod.SimulatedAnnealingSampler()\n",
    "response = sampler.sample(model, num_reads=10)\n",
    "print(\"The solution with simulated annealing is\")\n",
    "response"
   ]
  },
  {
   "cell_type": "markdown",
   "metadata": {},
   "source": [
    "Finally, we use the **quantum annealer** again"
   ]
  },
  {
   "cell_type": "code",
   "execution_count": null,
   "metadata": {},
   "outputs": [],
   "source": [
    "sampler = EmbeddingComposite(DWaveSampler(solver='Advantage_system1.1', **config))\n",
    "sampler_name = sampler.properties['child_properties']['chip_id']\n",
    "response = sampler.sample(model, num_reads=5000)\n",
    "print(\"The solution obtained by D-Wave's quantum annealer\", sampler_name, \"is\")\n",
    "response"
   ]
  }
 ],
 "metadata": {
  "kernelspec": {
   "display_name": "Python 3",
   "language": "python",
   "name": "python3"
  },
  "language_info": {
   "codemirror_mode": {
    "name": "ipython",
    "version": 3
   },
   "file_extension": ".py",
   "mimetype": "text/x-python",
   "name": "python",
   "nbconvert_exporter": "python",
   "pygments_lexer": "ipython3",
   "version": "3.8.5"
  },
  "pycharm": {
   "stem_cell": {
    "cell_type": "raw",
    "metadata": {
     "collapsed": false
    },
    "source": [
     "import dimod\n",
     "\n",
     "# State the problem that we want to solve is very easy\n",
     "# We will start with a simple case\n",
     "\n",
     "J = {(0,1):1}\n",
     "\n",
     "h = {}\n",
     "model = dimod.BinaryQuadraticModel(h, J, 0.0, dimod.SPIN)\n",
     "\n",
     "print(\"The model that we are going to solve is\")\n",
     "print(model)\n",
     "\n",
     "# We can solve it exactly\n",
     "from dimod.reference.samplers import ExactSolver\n",
     "sampler = ExactSolver()\n",
     "solution = sampler.sample(model)\n",
     "print(\"The exact solution is\")\n",
     "print(solution)\n",
     "\n",
     "\n",
     "# Or with *simulated annealing* (a heuristic method used in classical computers)\n",
     "sampler = dimod.SimulatedAnnealingSampler()\n",
     "response = sampler.sample(model, num_reads=10)\n",
     "print(\"The solution with simulated annealing is\")\n",
     "print(response)\n",
     "print()\n",
     "\n",
     "# D-Wave's API key\n",
     "API_TOKEN = ''\n",
     "config = {'token': API_TOKEN}\n",
     "\n",
     "\n",
     "# And, of course, with D-Wave's quantum computer\n",
     "from dwave.system.samplers import DWaveSampler\n",
     "from dwave.system.composites import EmbeddingComposite\n",
     "sampler = EmbeddingComposite(DWaveSampler(**config))\n",
     "sampler_name = sampler.properties['child_properties']['chip_id']\n",
     "response = sampler.sample(model, num_reads=5000)\n",
     "print(\"The solution obtained by D-Wave's quantum annealer\",sampler_name,\"is\")\n",
     "print(response)\n",
     "\n",
     "\n",
     "# Let us now see a more complicated case \n",
     "\n",
     "J = {(0,1):1,(0,2):1,(1,2):1,(1,3):1,(2,4):1,(3,4):1}\n",
     "h = {}\n",
     "model = dimod.BinaryQuadraticModel(h, J, 0.0, dimod.SPIN)\n",
     "print(\"The model that we are going to solve is\")\n",
     "print(model)\n",
     "\n",
     "\n",
     "# First, we solve it exactly\n",
     "sampler = ExactSolver()\n",
     "solution = sampler.sample(model)\n",
     "print(\"The exact solution is\")\n",
     "print(solution)\n",
     "\n",
     "\n",
     "# Now, with *simulated annealing*\n",
     "\n",
     "sampler = dimod.SimulatedAnnealingSampler()\n",
     "response = sampler.sample(model, num_reads=10)\n",
     "print(\"The solution with simulated annealing is\")\n",
     "print(response)\n",
     "\n",
     "\n",
     "# Finally, we use the *quantum annealer* again\n",
     "\n",
     "sampler = EmbeddingComposite(DWaveSampler(solver='Advantage_system1.1', **config))\n",
     "sampler_name = sampler.properties['child_properties']['chip_id']\n",
     "response = sampler.sample(model, num_reads=5000)\n",
     "print(\"The solution obtained by D-Wave's quantum annealer\",sampler_name,\"is\")\n",
     "print(response)"
    ]
   }
  }
 },
 "nbformat": 4,
 "nbformat_minor": 4
}
